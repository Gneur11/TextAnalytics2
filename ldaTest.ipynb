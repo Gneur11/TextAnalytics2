{
 "cells": [
  {
   "cell_type": "code",
   "execution_count": 1,
   "metadata": {},
   "outputs": [
    {
     "name": "stderr",
     "output_type": "stream",
     "text": [
      "[nltk_data] Downloading package vader_lexicon to\n",
      "[nltk_data]     /home/menis/nltk_data...\n",
      "[nltk_data]   Package vader_lexicon is already up-to-date!\n"
     ]
    }
   ],
   "source": [
    "import matplotlib.pyplot as plt\n",
    "import seaborn as sns\n",
    "import pandas as pd\n",
    "import numpy as np\n",
    "import nltk\n",
    "import os\n",
    "from operator import itemgetter\n",
    "from sklearn.cluster import AgglomerativeClustering\n",
    "nltk.download('vader_lexicon')\n",
    "from sklearn.metrics import silhouette_score\n",
    "from wordcloud import WordCloud, STOPWORDS, ImageColorGenerator\n",
    "from sklearn.cluster import KMeans\n",
    "from gensim import corpora\n",
    "from gensim.models import LsiModel, LdaModel\n",
    "from gensim.models.coherencemodel import CoherenceModel\n",
    "from nltk.tokenize import RegexpTokenizer\n",
    "from gensim.models import TfidfModel\n",
    "from nltk.sentiment.vader import SentimentIntensityAnalyzer\n",
    "\n",
    "\n",
    "def compute_coherence_values(dictionary, doc_term_matrix, doc_clean, stop, start=2, step=3):\n",
    "    \"\"\"\n",
    "    Input   : dictionary : Gensim dictionary\n",
    "              corpus : Gensim corpus\n",
    "              texts : List of input texts\n",
    "              stop : Max num of topics\n",
    "    purpose : Compute c_v coherence for various number of topics\n",
    "    Output  : model_list : List of LSA topic models\n",
    "              coherence_values : Coherence values corresponding to the LDA model with respective number of topics\n",
    "    \"\"\"\n",
    "    coherence_values = []\n",
    "    model_list = []\n",
    "    for num_topics in range(start, stop, step):\n",
    "        # generate LSA model\n",
    "        #model = LsiModel(doc_term_matrix, num_topics=num_topics, id2word = dictionary)  # train model\n",
    "        model = LdaModel(doc_term_matrix, num_topics=num_topics, id2word=dictionary)\n",
    "        model_list.append(model)\n",
    "        coherencemodel = CoherenceModel(model=model, texts=doc_clean, dictionary=dictionary, coherence='c_v')\n",
    "        coherence_values.append(coherencemodel.get_coherence())\n",
    "    return model_list, coherence_values\n",
    "\n",
    "def plot_graph(doc_clean,start, stop, step, doc_term_matrix,dictionary):\n",
    "    model_list, coherence_values = compute_coherence_values(dictionary, doc_term_matrix,doc_clean, stop, start, step)\n",
    "    # Show graph\n",
    "    #print(coherence_values)\n",
    "    x = range(start, stop, step)\n",
    "    plt.plot(x, coherence_values)\n",
    "    plt.xlabel(\"Number of Topics\")\n",
    "    plt.ylabel(\"Coherence score\")\n",
    "    plt.legend((\"coherence_values\"), loc='best')\n",
    "    plt.show()\n",
    "    c = coherence_values.index(max(coherence_values))\n",
    "    return start + c"
   ]
  },
  {
   "cell_type": "code",
   "execution_count": 2,
   "metadata": {},
   "outputs": [],
   "source": [
    "data = pd.read_json(\"7postElection.json\")\n",
    "vader = SentimentIntensityAnalyzer()\n",
    "text = data[\"text\"].tolist()\n",
    "scores = list()\n",
    "positive = list()\n",
    "negative = list()\n",
    "neut = list()\n",
    "for t in text:\n",
    "    scores.append(vader.polarity_scores(t)['compound'])\n",
    "    positive.append(vader.polarity_scores(t)['pos'])\n",
    "    negative.append(vader.polarity_scores(t)['neg'])\n",
    "    neut.append(vader.polarity_scores(t)['neu'])\n",
    "data[\"vaderScore\"] = scores\n"
   ]
  },
  {
   "cell_type": "code",
   "execution_count": 3,
   "metadata": {},
   "outputs": [
    {
     "data": {
      "text/html": [
       "<div>\n",
       "<style scoped>\n",
       "    .dataframe tbody tr th:only-of-type {\n",
       "        vertical-align: middle;\n",
       "    }\n",
       "\n",
       "    .dataframe tbody tr th {\n",
       "        vertical-align: top;\n",
       "    }\n",
       "\n",
       "    .dataframe thead th {\n",
       "        text-align: right;\n",
       "    }\n",
       "</style>\n",
       "<table border=\"1\" class=\"dataframe\">\n",
       "  <thead>\n",
       "    <tr style=\"text-align: right;\">\n",
       "      <th></th>\n",
       "      <th>favorite_count</th>\n",
       "      <th>retweet_count</th>\n",
       "      <th>date_month</th>\n",
       "      <th>date_year</th>\n",
       "      <th>week_year</th>\n",
       "      <th>labels</th>\n",
       "      <th>vaderScore</th>\n",
       "    </tr>\n",
       "  </thead>\n",
       "  <tbody>\n",
       "    <tr>\n",
       "      <th>favorite_count</th>\n",
       "      <td>1.000000</td>\n",
       "      <td>0.891237</td>\n",
       "      <td>-0.164023</td>\n",
       "      <td>0.185635</td>\n",
       "      <td>-0.164811</td>\n",
       "      <td>0.076417</td>\n",
       "      <td>-0.098971</td>\n",
       "    </tr>\n",
       "    <tr>\n",
       "      <th>retweet_count</th>\n",
       "      <td>0.891237</td>\n",
       "      <td>1.000000</td>\n",
       "      <td>-0.089613</td>\n",
       "      <td>0.144045</td>\n",
       "      <td>-0.090638</td>\n",
       "      <td>0.090506</td>\n",
       "      <td>-0.166127</td>\n",
       "    </tr>\n",
       "    <tr>\n",
       "      <th>date_month</th>\n",
       "      <td>-0.164023</td>\n",
       "      <td>-0.089613</td>\n",
       "      <td>1.000000</td>\n",
       "      <td>-0.302847</td>\n",
       "      <td>0.984279</td>\n",
       "      <td>-0.032168</td>\n",
       "      <td>0.064430</td>\n",
       "    </tr>\n",
       "    <tr>\n",
       "      <th>date_year</th>\n",
       "      <td>0.185635</td>\n",
       "      <td>0.144045</td>\n",
       "      <td>-0.302847</td>\n",
       "      <td>1.000000</td>\n",
       "      <td>-0.302369</td>\n",
       "      <td>0.021680</td>\n",
       "      <td>-0.019233</td>\n",
       "    </tr>\n",
       "    <tr>\n",
       "      <th>week_year</th>\n",
       "      <td>-0.164811</td>\n",
       "      <td>-0.090638</td>\n",
       "      <td>0.984279</td>\n",
       "      <td>-0.302369</td>\n",
       "      <td>1.000000</td>\n",
       "      <td>-0.034066</td>\n",
       "      <td>0.066510</td>\n",
       "    </tr>\n",
       "    <tr>\n",
       "      <th>labels</th>\n",
       "      <td>0.076417</td>\n",
       "      <td>0.090506</td>\n",
       "      <td>-0.032168</td>\n",
       "      <td>0.021680</td>\n",
       "      <td>-0.034066</td>\n",
       "      <td>1.000000</td>\n",
       "      <td>-0.129911</td>\n",
       "    </tr>\n",
       "    <tr>\n",
       "      <th>vaderScore</th>\n",
       "      <td>-0.098971</td>\n",
       "      <td>-0.166127</td>\n",
       "      <td>0.064430</td>\n",
       "      <td>-0.019233</td>\n",
       "      <td>0.066510</td>\n",
       "      <td>-0.129911</td>\n",
       "      <td>1.000000</td>\n",
       "    </tr>\n",
       "  </tbody>\n",
       "</table>\n",
       "</div>"
      ],
      "text/plain": [
       "                favorite_count  retweet_count  date_month  date_year  \\\n",
       "favorite_count        1.000000       0.891237   -0.164023   0.185635   \n",
       "retweet_count         0.891237       1.000000   -0.089613   0.144045   \n",
       "date_month           -0.164023      -0.089613    1.000000  -0.302847   \n",
       "date_year             0.185635       0.144045   -0.302847   1.000000   \n",
       "week_year            -0.164811      -0.090638    0.984279  -0.302369   \n",
       "labels                0.076417       0.090506   -0.032168   0.021680   \n",
       "vaderScore           -0.098971      -0.166127    0.064430  -0.019233   \n",
       "\n",
       "                week_year    labels  vaderScore  \n",
       "favorite_count  -0.164811  0.076417   -0.098971  \n",
       "retweet_count   -0.090638  0.090506   -0.166127  \n",
       "date_month       0.984279 -0.032168    0.064430  \n",
       "date_year       -0.302369  0.021680   -0.019233  \n",
       "week_year        1.000000 -0.034066    0.066510  \n",
       "labels          -0.034066  1.000000   -0.129911  \n",
       "vaderScore       0.066510 -0.129911    1.000000  "
      ]
     },
     "execution_count": 3,
     "metadata": {},
     "output_type": "execute_result"
    }
   ],
   "source": [
    "data = data[data[\"is_retweet\"] == False]\n",
    "\n",
    "data.rename(index=str, columns={\"year\": \"date_year\"},inplace=True)\n",
    "data.rename(index=str, columns={\"month\": \"date_month\"},inplace=True)\n",
    "\n",
    "data.drop([\"hour\",\"in_reply_to_user_id_str\",\"is_retweet\",\"text\",\"modded_text\",\"modded1\",\"date\"],axis=1,inplace=True)\n",
    "data.corr()"
   ]
  },
  {
   "cell_type": "code",
   "execution_count": 4,
   "metadata": {},
   "outputs": [
    {
     "data": {
      "text/html": [
       "<div>\n",
       "<style scoped>\n",
       "    .dataframe tbody tr th:only-of-type {\n",
       "        vertical-align: middle;\n",
       "    }\n",
       "\n",
       "    .dataframe tbody tr th {\n",
       "        vertical-align: top;\n",
       "    }\n",
       "\n",
       "    .dataframe thead th {\n",
       "        text-align: right;\n",
       "    }\n",
       "</style>\n",
       "<table border=\"1\" class=\"dataframe\">\n",
       "  <thead>\n",
       "    <tr style=\"text-align: right;\">\n",
       "      <th></th>\n",
       "      <th>favorite_count</th>\n",
       "      <th>retweet_count</th>\n",
       "      <th>date_month</th>\n",
       "      <th>date_year</th>\n",
       "      <th>week_year</th>\n",
       "      <th>noTags_punct</th>\n",
       "      <th>modded1_stemmed</th>\n",
       "      <th>labels</th>\n",
       "      <th>vaderScore</th>\n",
       "    </tr>\n",
       "  </thead>\n",
       "  <tbody>\n",
       "    <tr>\n",
       "      <th>30192</th>\n",
       "      <td>126230</td>\n",
       "      <td>32665</td>\n",
       "      <td>1</td>\n",
       "      <td>2017</td>\n",
       "      <td>52</td>\n",
       "      <td>to all americans     many blessings to you all...</td>\n",
       "      <td>american  mani  bless  look  forward  wonder ...</td>\n",
       "      <td>1</td>\n",
       "      <td>0.8908</td>\n",
       "    </tr>\n",
       "    <tr>\n",
       "      <th>30198</th>\n",
       "      <td>124024</td>\n",
       "      <td>29248</td>\n",
       "      <td>1</td>\n",
       "      <td>2017</td>\n",
       "      <td>1</td>\n",
       "      <td>well the new year begins we will together make...</td>\n",
       "      <td>well  new  year  begin  togeth  make  america...</td>\n",
       "      <td>3</td>\n",
       "      <td>0.8034</td>\n",
       "    </tr>\n",
       "    <tr>\n",
       "      <th>30199</th>\n",
       "      <td>63340</td>\n",
       "      <td>17411</td>\n",
       "      <td>1</td>\n",
       "      <td>2017</td>\n",
       "      <td>1</td>\n",
       "      <td>chicago murder rate is record setting  4331 sh...</td>\n",
       "      <td>chicago  murder  rate  record  set  4331  sho...</td>\n",
       "      <td>2</td>\n",
       "      <td>-0.8622</td>\n",
       "    </tr>\n",
       "    <tr>\n",
       "      <th>30200</th>\n",
       "      <td>13862</td>\n",
       "      <td>3948</td>\n",
       "      <td>1</td>\n",
       "      <td>2017</td>\n",
       "      <td>1</td>\n",
       "      <td>cnn just released a book called unprecedented ...</td>\n",
       "      <td>cnn  releas  book  call  unpreced  explor  20...</td>\n",
       "      <td>3</td>\n",
       "      <td>-0.6643</td>\n",
       "    </tr>\n",
       "    <tr>\n",
       "      <th>30201</th>\n",
       "      <td>47285</td>\n",
       "      <td>9057</td>\n",
       "      <td>1</td>\n",
       "      <td>2017</td>\n",
       "      <td>1</td>\n",
       "      <td>various media outlets and pundits say that i t...</td>\n",
       "      <td>variou  media  outlet  pundit  say  thought  ...</td>\n",
       "      <td>5</td>\n",
       "      <td>-0.7003</td>\n",
       "    </tr>\n",
       "    <tr>\n",
       "      <th>30202</th>\n",
       "      <td>62670</td>\n",
       "      <td>13437</td>\n",
       "      <td>1</td>\n",
       "      <td>2017</td>\n",
       "      <td>1</td>\n",
       "      <td>i thought and felt i would win big easily over...</td>\n",
       "      <td>thought  felt  would  win  big  easili  fabl ...</td>\n",
       "      <td>3</td>\n",
       "      <td>0.6369</td>\n",
       "    </tr>\n",
       "    <tr>\n",
       "      <th>30203</th>\n",
       "      <td>92256</td>\n",
       "      <td>26703</td>\n",
       "      <td>1</td>\n",
       "      <td>2017</td>\n",
       "      <td>1</td>\n",
       "      <td>north korea just stated that it is in the fina...</td>\n",
       "      <td>north  korea  state  final  stage  develop  n...</td>\n",
       "      <td>0</td>\n",
       "      <td>0.3595</td>\n",
       "    </tr>\n",
       "    <tr>\n",
       "      <th>30204</th>\n",
       "      <td>64480</td>\n",
       "      <td>17507</td>\n",
       "      <td>1</td>\n",
       "      <td>2017</td>\n",
       "      <td>1</td>\n",
       "      <td>china has been taking out massive amounts of m...</td>\n",
       "      <td>china  take  massiv  amount  money  wealth  u...</td>\n",
       "      <td>0</td>\n",
       "      <td>0.4948</td>\n",
       "    </tr>\n",
       "    <tr>\n",
       "      <th>30205</th>\n",
       "      <td>73104</td>\n",
       "      <td>18864</td>\n",
       "      <td>1</td>\n",
       "      <td>2017</td>\n",
       "      <td>1</td>\n",
       "      <td>general motors is sending mexican made model o...</td>\n",
       "      <td>gener  motor  send  mexican  made  model  che...</td>\n",
       "      <td>0</td>\n",
       "      <td>0.4926</td>\n",
       "    </tr>\n",
       "    <tr>\n",
       "      <th>30206</th>\n",
       "      <td>58809</td>\n",
       "      <td>14481</td>\n",
       "      <td>1</td>\n",
       "      <td>2017</td>\n",
       "      <td>1</td>\n",
       "      <td>people must remember that obamacare just doesn...</td>\n",
       "      <td>peopl  must  rememb  obamacar  doesnt  work  ...</td>\n",
       "      <td>5</td>\n",
       "      <td>0.0000</td>\n",
       "    </tr>\n",
       "    <tr>\n",
       "      <th>30207</th>\n",
       "      <td>53372</td>\n",
       "      <td>12599</td>\n",
       "      <td>1</td>\n",
       "      <td>2017</td>\n",
       "      <td>1</td>\n",
       "      <td>the democrat governorof minnesota said the aff...</td>\n",
       "      <td>democrat  governorof  minnesota  said  afford...</td>\n",
       "      <td>3</td>\n",
       "      <td>-0.4199</td>\n",
       "    </tr>\n",
       "    <tr>\n",
       "      <th>30208</th>\n",
       "      <td>43062</td>\n",
       "      <td>10851</td>\n",
       "      <td>1</td>\n",
       "      <td>2017</td>\n",
       "      <td>1</td>\n",
       "      <td>with all that congress has to work on do they ...</td>\n",
       "      <td>congress  work  realli  make  weaken  indepen...</td>\n",
       "      <td>6</td>\n",
       "      <td>-0.6597</td>\n",
       "    </tr>\n",
       "    <tr>\n",
       "      <th>30209</th>\n",
       "      <td>42800</td>\n",
       "      <td>9525</td>\n",
       "      <td>1</td>\n",
       "      <td>2017</td>\n",
       "      <td>1</td>\n",
       "      <td>may be their number one act and priority focus...</td>\n",
       "      <td>may  number  one  act  prioriti  focu  tax  r...</td>\n",
       "      <td>4</td>\n",
       "      <td>0.6800</td>\n",
       "    </tr>\n",
       "    <tr>\n",
       "      <th>30210</th>\n",
       "      <td>52850</td>\n",
       "      <td>15571</td>\n",
       "      <td>1</td>\n",
       "      <td>2017</td>\n",
       "      <td>1</td>\n",
       "      <td>danscavino ford to scrap mexico plant invest i...</td>\n",
       "      <td>danscavino  ford  scrap  mexico  plant  inves...</td>\n",
       "      <td>1</td>\n",
       "      <td>0.0000</td>\n",
       "    </tr>\n",
       "    <tr>\n",
       "      <th>30211</th>\n",
       "      <td>54691</td>\n",
       "      <td>12727</td>\n",
       "      <td>1</td>\n",
       "      <td>2017</td>\n",
       "      <td>1</td>\n",
       "      <td>instead of driving jobs and wealth away americ...</td>\n",
       "      <td>instead  drive  job  wealth  away  america  b...</td>\n",
       "      <td>4</td>\n",
       "      <td>0.9255</td>\n",
       "    </tr>\n",
       "    <tr>\n",
       "      <th>30212</th>\n",
       "      <td>82862</td>\n",
       "      <td>20653</td>\n",
       "      <td>1</td>\n",
       "      <td>2017</td>\n",
       "      <td>1</td>\n",
       "      <td>there should be no further releases from gitmo...</td>\n",
       "      <td>releas  gitmo  extrem  danger  peopl  allow  ...</td>\n",
       "      <td>5</td>\n",
       "      <td>-0.8016</td>\n",
       "    </tr>\n",
       "    <tr>\n",
       "      <th>30213</th>\n",
       "      <td>53127</td>\n",
       "      <td>14057</td>\n",
       "      <td>1</td>\n",
       "      <td>2017</td>\n",
       "      <td>1</td>\n",
       "      <td>trump is already delivering the jobs he promis...</td>\n",
       "      <td>trump  alreadi  deliv  job  promis  america</td>\n",
       "      <td>2</td>\n",
       "      <td>0.3612</td>\n",
       "    </tr>\n",
       "    <tr>\n",
       "      <th>30214</th>\n",
       "      <td>57750</td>\n",
       "      <td>14678</td>\n",
       "      <td>1</td>\n",
       "      <td>2017</td>\n",
       "      <td>1</td>\n",
       "      <td>i will be having a general news conference on ...</td>\n",
       "      <td>gener  news  confer  januari  eleventh  nyc  ...</td>\n",
       "      <td>4</td>\n",
       "      <td>0.3612</td>\n",
       "    </tr>\n",
       "    <tr>\n",
       "      <th>30215</th>\n",
       "      <td>80009</td>\n",
       "      <td>23441</td>\n",
       "      <td>1</td>\n",
       "      <td>2017</td>\n",
       "      <td>1</td>\n",
       "      <td>the intelligence briefing on socalled russian ...</td>\n",
       "      <td>intellig  brief  socal  russian  hack  delay ...</td>\n",
       "      <td>3</td>\n",
       "      <td>-0.5081</td>\n",
       "    </tr>\n",
       "    <tr>\n",
       "      <th>30216</th>\n",
       "      <td>61018</td>\n",
       "      <td>18118</td>\n",
       "      <td>1</td>\n",
       "      <td>2017</td>\n",
       "      <td>1</td>\n",
       "      <td>julian assange said a 14 year old could have h...</td>\n",
       "      <td>julian  assang  said  14  year  old  could  h...</td>\n",
       "      <td>3</td>\n",
       "      <td>-0.7378</td>\n",
       "    </tr>\n",
       "    <tr>\n",
       "      <th>30217</th>\n",
       "      <td>42047</td>\n",
       "      <td>14810</td>\n",
       "      <td>1</td>\n",
       "      <td>2017</td>\n",
       "      <td>1</td>\n",
       "      <td>foxnews julian assange on us media coverage  i...</td>\n",
       "      <td>foxnew  julian  assang  us  media  coverag  d...</td>\n",
       "      <td>0</td>\n",
       "      <td>-0.6115</td>\n",
       "    </tr>\n",
       "    <tr>\n",
       "      <th>30218</th>\n",
       "      <td>86542</td>\n",
       "      <td>19529</td>\n",
       "      <td>1</td>\n",
       "      <td>2017</td>\n",
       "      <td>1</td>\n",
       "      <td>thank you to ford for scrapping a new plant in...</td>\n",
       "      <td>thank  ford  scrap  new  plant  mexico  creat...</td>\n",
       "      <td>0</td>\n",
       "      <td>0.5719</td>\n",
       "    </tr>\n",
       "    <tr>\n",
       "      <th>30219</th>\n",
       "      <td>42611</td>\n",
       "      <td>10260</td>\n",
       "      <td>1</td>\n",
       "      <td>2017</td>\n",
       "      <td>1</td>\n",
       "      <td>somebody hacked the dnc but why did they not h...</td>\n",
       "      <td>somebodi  hack  dnc  hack  defens  like  rnc ...</td>\n",
       "      <td>6</td>\n",
       "      <td>0.2132</td>\n",
       "    </tr>\n",
       "    <tr>\n",
       "      <th>30220</th>\n",
       "      <td>46561</td>\n",
       "      <td>10731</td>\n",
       "      <td>1</td>\n",
       "      <td>2017</td>\n",
       "      <td>1</td>\n",
       "      <td>things they did and said like giving the quest...</td>\n",
       "      <td>thing  said  like  give  question  debat  h  ...</td>\n",
       "      <td>6</td>\n",
       "      <td>0.4003</td>\n",
       "    </tr>\n",
       "    <tr>\n",
       "      <th>30221</th>\n",
       "      <td>46212</td>\n",
       "      <td>11128</td>\n",
       "      <td>1</td>\n",
       "      <td>2017</td>\n",
       "      <td>1</td>\n",
       "      <td>republicans must be careful in that the dems o...</td>\n",
       "      <td>republican  must  care  dem  fail  obamacar  ...</td>\n",
       "      <td>5</td>\n",
       "      <td>-0.8720</td>\n",
       "    </tr>\n",
       "    <tr>\n",
       "      <th>30222</th>\n",
       "      <td>46485</td>\n",
       "      <td>11224</td>\n",
       "      <td>1</td>\n",
       "      <td>2017</td>\n",
       "      <td>1</td>\n",
       "      <td>like the 116 hike in arizona also deductibles ...</td>\n",
       "      <td>like  116  hike  arizona  also  deduct  high ...</td>\n",
       "      <td>5</td>\n",
       "      <td>-0.0772</td>\n",
       "    </tr>\n",
       "    <tr>\n",
       "      <th>30223</th>\n",
       "      <td>54146</td>\n",
       "      <td>13596</td>\n",
       "      <td>1</td>\n",
       "      <td>2017</td>\n",
       "      <td>1</td>\n",
       "      <td>massive increases of obamacare will take place...</td>\n",
       "      <td>massiv  increas  obamacar  take  place  year ...</td>\n",
       "      <td>4</td>\n",
       "      <td>-0.5562</td>\n",
       "    </tr>\n",
       "    <tr>\n",
       "      <th>30224</th>\n",
       "      <td>79498</td>\n",
       "      <td>17093</td>\n",
       "      <td>1</td>\n",
       "      <td>2017</td>\n",
       "      <td>1</td>\n",
       "      <td>jackie evanchos album sales have skyrocketed a...</td>\n",
       "      <td>jacki  evancho  album  sale  skyrocket  annou...</td>\n",
       "      <td>1</td>\n",
       "      <td>0.0000</td>\n",
       "    </tr>\n",
       "    <tr>\n",
       "      <th>30225</th>\n",
       "      <td>53297</td>\n",
       "      <td>13117</td>\n",
       "      <td>1</td>\n",
       "      <td>2017</td>\n",
       "      <td>1</td>\n",
       "      <td>the democrats lead by head clown chuck schumer...</td>\n",
       "      <td>democrat  lead  head  clown  chuck  schumer  ...</td>\n",
       "      <td>6</td>\n",
       "      <td>-0.7184</td>\n",
       "    </tr>\n",
       "    <tr>\n",
       "      <th>30226</th>\n",
       "      <td>51725</td>\n",
       "      <td>12288</td>\n",
       "      <td>1</td>\n",
       "      <td>2017</td>\n",
       "      <td>1</td>\n",
       "      <td>do the typical political thing and blame the f...</td>\n",
       "      <td>typic  polit  thing  blame  fact  obamacar  l...</td>\n",
       "      <td>5</td>\n",
       "      <td>-0.5307</td>\n",
       "    </tr>\n",
       "    <tr>\n",
       "      <th>...</th>\n",
       "      <td>...</td>\n",
       "      <td>...</td>\n",
       "      <td>...</td>\n",
       "      <td>...</td>\n",
       "      <td>...</td>\n",
       "      <td>...</td>\n",
       "      <td>...</td>\n",
       "      <td>...</td>\n",
       "      <td>...</td>\n",
       "    </tr>\n",
       "    <tr>\n",
       "      <th>37224</th>\n",
       "      <td>113364</td>\n",
       "      <td>36379</td>\n",
       "      <td>3</td>\n",
       "      <td>2019</td>\n",
       "      <td>12</td>\n",
       "      <td>thank you jessebwatters could not have said it...</td>\n",
       "      <td>thank  jessebwatt  could  said  better</td>\n",
       "      <td>3</td>\n",
       "      <td>0.6900</td>\n",
       "    </tr>\n",
       "    <tr>\n",
       "      <th>37226</th>\n",
       "      <td>92505</td>\n",
       "      <td>23443</td>\n",
       "      <td>3</td>\n",
       "      <td>2019</td>\n",
       "      <td>12</td>\n",
       "      <td>campaigning for the popular vote is much easie...</td>\n",
       "      <td>campaign  popular  vote  much  easier  differ...</td>\n",
       "      <td>5</td>\n",
       "      <td>0.9559</td>\n",
       "    </tr>\n",
       "    <tr>\n",
       "      <th>37227</th>\n",
       "      <td>122361</td>\n",
       "      <td>28892</td>\n",
       "      <td>3</td>\n",
       "      <td>2019</td>\n",
       "      <td>12</td>\n",
       "      <td>just the large states  the cities would end up...</td>\n",
       "      <td>larg  state  citi  would  end  run  countri  ...</td>\n",
       "      <td>3</td>\n",
       "      <td>0.6908</td>\n",
       "    </tr>\n",
       "    <tr>\n",
       "      <th>37228</th>\n",
       "      <td>81178</td>\n",
       "      <td>23378</td>\n",
       "      <td>3</td>\n",
       "      <td>2019</td>\n",
       "      <td>12</td>\n",
       "      <td>not a good situation</td>\n",
       "      <td>good  situat</td>\n",
       "      <td>3</td>\n",
       "      <td>-0.4015</td>\n",
       "    </tr>\n",
       "    <tr>\n",
       "      <th>37229</th>\n",
       "      <td>126175</td>\n",
       "      <td>31486</td>\n",
       "      <td>3</td>\n",
       "      <td>2019</td>\n",
       "      <td>12</td>\n",
       "      <td>the democrats are getting very  strange  they ...</td>\n",
       "      <td>democrat  get  strang  want  chang  vote  age...</td>\n",
       "      <td>6</td>\n",
       "      <td>0.8908</td>\n",
       "    </tr>\n",
       "    <tr>\n",
       "      <th>37230</th>\n",
       "      <td>127052</td>\n",
       "      <td>26067</td>\n",
       "      <td>3</td>\n",
       "      <td>2019</td>\n",
       "      <td>12</td>\n",
       "      <td>george conway often referred to as mr kellyann...</td>\n",
       "      <td>georg  conway  often  refer  mr  kellyann  co...</td>\n",
       "      <td>2</td>\n",
       "      <td>-0.9519</td>\n",
       "    </tr>\n",
       "    <tr>\n",
       "      <th>37231</th>\n",
       "      <td>89837</td>\n",
       "      <td>20839</td>\n",
       "      <td>3</td>\n",
       "      <td>2019</td>\n",
       "      <td>12</td>\n",
       "      <td>i am thrilled to be here in ohio with the hard...</td>\n",
       "      <td>thrill  ohio  hardwork  men  women  lima  arm...</td>\n",
       "      <td>4</td>\n",
       "      <td>0.9140</td>\n",
       "    </tr>\n",
       "    <tr>\n",
       "      <th>37232</th>\n",
       "      <td>101431</td>\n",
       "      <td>24708</td>\n",
       "      <td>3</td>\n",
       "      <td>2019</td>\n",
       "      <td>12</td>\n",
       "      <td>great news from ford they are investing nearly...</td>\n",
       "      <td>great  news  ford  invest  nearli  1  billion...</td>\n",
       "      <td>6</td>\n",
       "      <td>0.8619</td>\n",
       "    </tr>\n",
       "    <tr>\n",
       "      <th>37233</th>\n",
       "      <td>175904</td>\n",
       "      <td>39852</td>\n",
       "      <td>3</td>\n",
       "      <td>2019</td>\n",
       "      <td>12</td>\n",
       "      <td>really beautiful to see</td>\n",
       "      <td>realli  beauti  see</td>\n",
       "      <td>3</td>\n",
       "      <td>0.6689</td>\n",
       "    </tr>\n",
       "    <tr>\n",
       "      <th>37234</th>\n",
       "      <td>74892</td>\n",
       "      <td>21988</td>\n",
       "      <td>3</td>\n",
       "      <td>2019</td>\n",
       "      <td>12</td>\n",
       "      <td>isis caliphate two years ago in red vs isis ca...</td>\n",
       "      <td>isi  caliph  two  year  ago  red  vs  isi  ca...</td>\n",
       "      <td>3</td>\n",
       "      <td>-0.4767</td>\n",
       "    </tr>\n",
       "    <tr>\n",
       "      <th>37236</th>\n",
       "      <td>98015</td>\n",
       "      <td>14620</td>\n",
       "      <td>3</td>\n",
       "      <td>2019</td>\n",
       "      <td>12</td>\n",
       "      <td>leaving the great state of ohio for the whiteh...</td>\n",
       "      <td>leav  great  state  ohio  whitehous  realli  ...</td>\n",
       "      <td>3</td>\n",
       "      <td>0.8890</td>\n",
       "    </tr>\n",
       "    <tr>\n",
       "      <th>37238</th>\n",
       "      <td>98079</td>\n",
       "      <td>25343</td>\n",
       "      <td>3</td>\n",
       "      <td>2019</td>\n",
       "      <td>12</td>\n",
       "      <td>the reason we have the special counsel invest...</td>\n",
       "      <td>reason  special  counsel  investig  jame  com...</td>\n",
       "      <td>5</td>\n",
       "      <td>-0.6989</td>\n",
       "    </tr>\n",
       "    <tr>\n",
       "      <th>37239</th>\n",
       "      <td>85324</td>\n",
       "      <td>26081</td>\n",
       "      <td>3</td>\n",
       "      <td>2019</td>\n",
       "      <td>12</td>\n",
       "      <td>john solomon as russia collusion fades ukrain...</td>\n",
       "      <td>john  solomon  russia  collus  fade  ukrainia...</td>\n",
       "      <td>1</td>\n",
       "      <td>0.4019</td>\n",
       "    </tr>\n",
       "    <tr>\n",
       "      <th>37240</th>\n",
       "      <td>180051</td>\n",
       "      <td>42468</td>\n",
       "      <td>3</td>\n",
       "      <td>2019</td>\n",
       "      <td>12</td>\n",
       "      <td>after 52 years it is time for the united state...</td>\n",
       "      <td>52  year  time  unit  state  fulli  recogn  i...</td>\n",
       "      <td>3</td>\n",
       "      <td>0.6900</td>\n",
       "    </tr>\n",
       "    <tr>\n",
       "      <th>37241</th>\n",
       "      <td>128008</td>\n",
       "      <td>33283</td>\n",
       "      <td>3</td>\n",
       "      <td>2019</td>\n",
       "      <td>12</td>\n",
       "      <td>we are here today to take historic action to d...</td>\n",
       "      <td>today  take  histor  action  defend  american...</td>\n",
       "      <td>1</td>\n",
       "      <td>0.8531</td>\n",
       "    </tr>\n",
       "    <tr>\n",
       "      <th>37242</th>\n",
       "      <td>87450</td>\n",
       "      <td>20844</td>\n",
       "      <td>3</td>\n",
       "      <td>2019</td>\n",
       "      <td>12</td>\n",
       "      <td>today we celebrate the lives and achievements ...</td>\n",
       "      <td>today  celebr  live  achiev  american  syndro...</td>\n",
       "      <td>3</td>\n",
       "      <td>0.8268</td>\n",
       "    </tr>\n",
       "    <tr>\n",
       "      <th>37248</th>\n",
       "      <td>167938</td>\n",
       "      <td>35346</td>\n",
       "      <td>3</td>\n",
       "      <td>2019</td>\n",
       "      <td>12</td>\n",
       "      <td>31 gdp for the year best number in 14 years</td>\n",
       "      <td>31  gdp  year  best  number  14  year</td>\n",
       "      <td>3</td>\n",
       "      <td>0.8052</td>\n",
       "    </tr>\n",
       "    <tr>\n",
       "      <th>37250</th>\n",
       "      <td>73882</td>\n",
       "      <td>16729</td>\n",
       "      <td>3</td>\n",
       "      <td>2019</td>\n",
       "      <td>12</td>\n",
       "      <td>our own benjamin hall is doing fantastic repo...</td>\n",
       "      <td>benjamin  hall  fantast  report  isi  right  ...</td>\n",
       "      <td>3</td>\n",
       "      <td>0.6808</td>\n",
       "    </tr>\n",
       "    <tr>\n",
       "      <th>37253</th>\n",
       "      <td>126175</td>\n",
       "      <td>23042</td>\n",
       "      <td>3</td>\n",
       "      <td>2019</td>\n",
       "      <td>12</td>\n",
       "      <td>isis uses the internet better than almost anyo...</td>\n",
       "      <td>isi  use  internet  better  almost  anyon  su...</td>\n",
       "      <td>6</td>\n",
       "      <td>-0.8555</td>\n",
       "    </tr>\n",
       "    <tr>\n",
       "      <th>37254</th>\n",
       "      <td>104132</td>\n",
       "      <td>18635</td>\n",
       "      <td>3</td>\n",
       "      <td>2019</td>\n",
       "      <td>12</td>\n",
       "      <td>there is nothing to admire about them they wil...</td>\n",
       "      <td>noth  admir  alway  tri  show  glimmer  vicio...</td>\n",
       "      <td>6</td>\n",
       "      <td>-0.9046</td>\n",
       "    </tr>\n",
       "    <tr>\n",
       "      <th>37255</th>\n",
       "      <td>83389</td>\n",
       "      <td>17185</td>\n",
       "      <td>3</td>\n",
       "      <td>2019</td>\n",
       "      <td>12</td>\n",
       "      <td>it is my pleasure to announce that stephenmoor...</td>\n",
       "      <td>pleasur  announc  stephenmoor  respect  econo...</td>\n",
       "      <td>2</td>\n",
       "      <td>0.8264</td>\n",
       "    </tr>\n",
       "    <tr>\n",
       "      <th>37256</th>\n",
       "      <td>98053</td>\n",
       "      <td>21567</td>\n",
       "      <td>3</td>\n",
       "      <td>2019</td>\n",
       "      <td>12</td>\n",
       "      <td>it was announced today by the us treasury that...</td>\n",
       "      <td>announc  today  us  treasuri  addit  larg  sc...</td>\n",
       "      <td>0</td>\n",
       "      <td>0.2942</td>\n",
       "    </tr>\n",
       "    <tr>\n",
       "      <th>37257</th>\n",
       "      <td>118074</td>\n",
       "      <td>24427</td>\n",
       "      <td>3</td>\n",
       "      <td>2019</td>\n",
       "      <td>12</td>\n",
       "      <td>today in florida flotus and i were honored to ...</td>\n",
       "      <td>today  florida  flotu  honor  welcom  meet  l...</td>\n",
       "      <td>1</td>\n",
       "      <td>0.7959</td>\n",
       "    </tr>\n",
       "    <tr>\n",
       "      <th>37258</th>\n",
       "      <td>449070</td>\n",
       "      <td>76481</td>\n",
       "      <td>3</td>\n",
       "      <td>2019</td>\n",
       "      <td>12</td>\n",
       "      <td>good morning have a great day</td>\n",
       "      <td>good  morn  great  day</td>\n",
       "      <td>3</td>\n",
       "      <td>0.8070</td>\n",
       "    </tr>\n",
       "    <tr>\n",
       "      <th>37259</th>\n",
       "      <td>332007</td>\n",
       "      <td>61805</td>\n",
       "      <td>3</td>\n",
       "      <td>2019</td>\n",
       "      <td>12</td>\n",
       "      <td>make america great again</td>\n",
       "      <td>make  america  great</td>\n",
       "      <td>3</td>\n",
       "      <td>0.6588</td>\n",
       "    </tr>\n",
       "    <tr>\n",
       "      <th>37260</th>\n",
       "      <td>397118</td>\n",
       "      <td>94244</td>\n",
       "      <td>3</td>\n",
       "      <td>2019</td>\n",
       "      <td>12</td>\n",
       "      <td>no collusion no obstruction complete and total...</td>\n",
       "      <td>collus  obstruct  complet  total  exoner  kee...</td>\n",
       "      <td>3</td>\n",
       "      <td>0.4069</td>\n",
       "    </tr>\n",
       "    <tr>\n",
       "      <th>37261</th>\n",
       "      <td>110965</td>\n",
       "      <td>23476</td>\n",
       "      <td>3</td>\n",
       "      <td>2019</td>\n",
       "      <td>13</td>\n",
       "      <td>no matter your ideologies or your loyalties t...</td>\n",
       "      <td>matter  ideolog  loyalti  good  day  america ...</td>\n",
       "      <td>1</td>\n",
       "      <td>0.5719</td>\n",
       "    </tr>\n",
       "    <tr>\n",
       "      <th>37262</th>\n",
       "      <td>119550</td>\n",
       "      <td>26315</td>\n",
       "      <td>3</td>\n",
       "      <td>2019</td>\n",
       "      <td>13</td>\n",
       "      <td>the special counsel did not find that the tru...</td>\n",
       "      <td>special  counsel  find  trump  campaign  anyo...</td>\n",
       "      <td>5</td>\n",
       "      <td>0.4019</td>\n",
       "    </tr>\n",
       "    <tr>\n",
       "      <th>37263</th>\n",
       "      <td>100164</td>\n",
       "      <td>19637</td>\n",
       "      <td>3</td>\n",
       "      <td>2019</td>\n",
       "      <td>13</td>\n",
       "      <td>breaking news mueller report finds no trumpru...</td>\n",
       "      <td>break  news  mueller  report  find  trumpruss...</td>\n",
       "      <td>1</td>\n",
       "      <td>-0.2960</td>\n",
       "    </tr>\n",
       "    <tr>\n",
       "      <th>37269</th>\n",
       "      <td>117073</td>\n",
       "      <td>25856</td>\n",
       "      <td>3</td>\n",
       "      <td>2019</td>\n",
       "      <td>13</td>\n",
       "      <td>today it was my great honor to welcome prime m...</td>\n",
       "      <td>today  great  honor  welcom  prime  minist  n...</td>\n",
       "      <td>3</td>\n",
       "      <td>0.8834</td>\n",
       "    </tr>\n",
       "  </tbody>\n",
       "</table>\n",
       "<p>5926 rows × 9 columns</p>\n",
       "</div>"
      ],
      "text/plain": [
       "       favorite_count  retweet_count  date_month  date_year  week_year  \\\n",
       "30192          126230          32665           1       2017         52   \n",
       "30198          124024          29248           1       2017          1   \n",
       "30199           63340          17411           1       2017          1   \n",
       "30200           13862           3948           1       2017          1   \n",
       "30201           47285           9057           1       2017          1   \n",
       "30202           62670          13437           1       2017          1   \n",
       "30203           92256          26703           1       2017          1   \n",
       "30204           64480          17507           1       2017          1   \n",
       "30205           73104          18864           1       2017          1   \n",
       "30206           58809          14481           1       2017          1   \n",
       "30207           53372          12599           1       2017          1   \n",
       "30208           43062          10851           1       2017          1   \n",
       "30209           42800           9525           1       2017          1   \n",
       "30210           52850          15571           1       2017          1   \n",
       "30211           54691          12727           1       2017          1   \n",
       "30212           82862          20653           1       2017          1   \n",
       "30213           53127          14057           1       2017          1   \n",
       "30214           57750          14678           1       2017          1   \n",
       "30215           80009          23441           1       2017          1   \n",
       "30216           61018          18118           1       2017          1   \n",
       "30217           42047          14810           1       2017          1   \n",
       "30218           86542          19529           1       2017          1   \n",
       "30219           42611          10260           1       2017          1   \n",
       "30220           46561          10731           1       2017          1   \n",
       "30221           46212          11128           1       2017          1   \n",
       "30222           46485          11224           1       2017          1   \n",
       "30223           54146          13596           1       2017          1   \n",
       "30224           79498          17093           1       2017          1   \n",
       "30225           53297          13117           1       2017          1   \n",
       "30226           51725          12288           1       2017          1   \n",
       "...               ...            ...         ...        ...        ...   \n",
       "37224          113364          36379           3       2019         12   \n",
       "37226           92505          23443           3       2019         12   \n",
       "37227          122361          28892           3       2019         12   \n",
       "37228           81178          23378           3       2019         12   \n",
       "37229          126175          31486           3       2019         12   \n",
       "37230          127052          26067           3       2019         12   \n",
       "37231           89837          20839           3       2019         12   \n",
       "37232          101431          24708           3       2019         12   \n",
       "37233          175904          39852           3       2019         12   \n",
       "37234           74892          21988           3       2019         12   \n",
       "37236           98015          14620           3       2019         12   \n",
       "37238           98079          25343           3       2019         12   \n",
       "37239           85324          26081           3       2019         12   \n",
       "37240          180051          42468           3       2019         12   \n",
       "37241          128008          33283           3       2019         12   \n",
       "37242           87450          20844           3       2019         12   \n",
       "37248          167938          35346           3       2019         12   \n",
       "37250           73882          16729           3       2019         12   \n",
       "37253          126175          23042           3       2019         12   \n",
       "37254          104132          18635           3       2019         12   \n",
       "37255           83389          17185           3       2019         12   \n",
       "37256           98053          21567           3       2019         12   \n",
       "37257          118074          24427           3       2019         12   \n",
       "37258          449070          76481           3       2019         12   \n",
       "37259          332007          61805           3       2019         12   \n",
       "37260          397118          94244           3       2019         12   \n",
       "37261          110965          23476           3       2019         13   \n",
       "37262          119550          26315           3       2019         13   \n",
       "37263          100164          19637           3       2019         13   \n",
       "37269          117073          25856           3       2019         13   \n",
       "\n",
       "                                            noTags_punct  \\\n",
       "30192  to all americans     many blessings to you all...   \n",
       "30198  well the new year begins we will together make...   \n",
       "30199  chicago murder rate is record setting  4331 sh...   \n",
       "30200  cnn just released a book called unprecedented ...   \n",
       "30201  various media outlets and pundits say that i t...   \n",
       "30202  i thought and felt i would win big easily over...   \n",
       "30203  north korea just stated that it is in the fina...   \n",
       "30204  china has been taking out massive amounts of m...   \n",
       "30205  general motors is sending mexican made model o...   \n",
       "30206  people must remember that obamacare just doesn...   \n",
       "30207  the democrat governorof minnesota said the aff...   \n",
       "30208  with all that congress has to work on do they ...   \n",
       "30209  may be their number one act and priority focus...   \n",
       "30210  danscavino ford to scrap mexico plant invest i...   \n",
       "30211  instead of driving jobs and wealth away americ...   \n",
       "30212  there should be no further releases from gitmo...   \n",
       "30213  trump is already delivering the jobs he promis...   \n",
       "30214  i will be having a general news conference on ...   \n",
       "30215  the intelligence briefing on socalled russian ...   \n",
       "30216  julian assange said a 14 year old could have h...   \n",
       "30217  foxnews julian assange on us media coverage  i...   \n",
       "30218  thank you to ford for scrapping a new plant in...   \n",
       "30219  somebody hacked the dnc but why did they not h...   \n",
       "30220  things they did and said like giving the quest...   \n",
       "30221  republicans must be careful in that the dems o...   \n",
       "30222  like the 116 hike in arizona also deductibles ...   \n",
       "30223  massive increases of obamacare will take place...   \n",
       "30224  jackie evanchos album sales have skyrocketed a...   \n",
       "30225  the democrats lead by head clown chuck schumer...   \n",
       "30226  do the typical political thing and blame the f...   \n",
       "...                                                  ...   \n",
       "37224  thank you jessebwatters could not have said it...   \n",
       "37226  campaigning for the popular vote is much easie...   \n",
       "37227  just the large states  the cities would end up...   \n",
       "37228                             not a good situation     \n",
       "37229  the democrats are getting very  strange  they ...   \n",
       "37230  george conway often referred to as mr kellyann...   \n",
       "37231  i am thrilled to be here in ohio with the hard...   \n",
       "37232  great news from ford they are investing nearly...   \n",
       "37233                          really beautiful to see     \n",
       "37234  isis caliphate two years ago in red vs isis ca...   \n",
       "37236  leaving the great state of ohio for the whiteh...   \n",
       "37238   the reason we have the special counsel invest...   \n",
       "37239   john solomon as russia collusion fades ukrain...   \n",
       "37240  after 52 years it is time for the united state...   \n",
       "37241  we are here today to take historic action to d...   \n",
       "37242  today we celebrate the lives and achievements ...   \n",
       "37248        31 gdp for the year best number in 14 years   \n",
       "37250   our own benjamin hall is doing fantastic repo...   \n",
       "37253  isis uses the internet better than almost anyo...   \n",
       "37254  there is nothing to admire about them they wil...   \n",
       "37255  it is my pleasure to announce that stephenmoor...   \n",
       "37256  it was announced today by the us treasury that...   \n",
       "37257  today in florida flotus and i were honored to ...   \n",
       "37258                      good morning have a great day   \n",
       "37259                           make america great again   \n",
       "37260  no collusion no obstruction complete and total...   \n",
       "37261   no matter your ideologies or your loyalties t...   \n",
       "37262   the special counsel did not find that the tru...   \n",
       "37263   breaking news mueller report finds no trumpru...   \n",
       "37269  today it was my great honor to welcome prime m...   \n",
       "\n",
       "                                         modded1_stemmed  labels  vaderScore  \n",
       "30192   american  mani  bless  look  forward  wonder ...       1      0.8908  \n",
       "30198   well  new  year  begin  togeth  make  america...       3      0.8034  \n",
       "30199   chicago  murder  rate  record  set  4331  sho...       2     -0.8622  \n",
       "30200   cnn  releas  book  call  unpreced  explor  20...       3     -0.6643  \n",
       "30201   variou  media  outlet  pundit  say  thought  ...       5     -0.7003  \n",
       "30202   thought  felt  would  win  big  easili  fabl ...       3      0.6369  \n",
       "30203   north  korea  state  final  stage  develop  n...       0      0.3595  \n",
       "30204   china  take  massiv  amount  money  wealth  u...       0      0.4948  \n",
       "30205   gener  motor  send  mexican  made  model  che...       0      0.4926  \n",
       "30206   peopl  must  rememb  obamacar  doesnt  work  ...       5      0.0000  \n",
       "30207   democrat  governorof  minnesota  said  afford...       3     -0.4199  \n",
       "30208   congress  work  realli  make  weaken  indepen...       6     -0.6597  \n",
       "30209   may  number  one  act  prioriti  focu  tax  r...       4      0.6800  \n",
       "30210   danscavino  ford  scrap  mexico  plant  inves...       1      0.0000  \n",
       "30211   instead  drive  job  wealth  away  america  b...       4      0.9255  \n",
       "30212   releas  gitmo  extrem  danger  peopl  allow  ...       5     -0.8016  \n",
       "30213       trump  alreadi  deliv  job  promis  america        2      0.3612  \n",
       "30214   gener  news  confer  januari  eleventh  nyc  ...       4      0.3612  \n",
       "30215   intellig  brief  socal  russian  hack  delay ...       3     -0.5081  \n",
       "30216   julian  assang  said  14  year  old  could  h...       3     -0.7378  \n",
       "30217   foxnew  julian  assang  us  media  coverag  d...       0     -0.6115  \n",
       "30218   thank  ford  scrap  new  plant  mexico  creat...       0      0.5719  \n",
       "30219   somebodi  hack  dnc  hack  defens  like  rnc ...       6      0.2132  \n",
       "30220   thing  said  like  give  question  debat  h  ...       6      0.4003  \n",
       "30221   republican  must  care  dem  fail  obamacar  ...       5     -0.8720  \n",
       "30222   like  116  hike  arizona  also  deduct  high ...       5     -0.0772  \n",
       "30223   massiv  increas  obamacar  take  place  year ...       4     -0.5562  \n",
       "30224   jacki  evancho  album  sale  skyrocket  annou...       1      0.0000  \n",
       "30225   democrat  lead  head  clown  chuck  schumer  ...       6     -0.7184  \n",
       "30226   typic  polit  thing  blame  fact  obamacar  l...       5     -0.5307  \n",
       "...                                                  ...     ...         ...  \n",
       "37224            thank  jessebwatt  could  said  better        3      0.6900  \n",
       "37226   campaign  popular  vote  much  easier  differ...       5      0.9559  \n",
       "37227   larg  state  citi  would  end  run  countri  ...       3      0.6908  \n",
       "37228                                      good  situat        3     -0.4015  \n",
       "37229   democrat  get  strang  want  chang  vote  age...       6      0.8908  \n",
       "37230   georg  conway  often  refer  mr  kellyann  co...       2     -0.9519  \n",
       "37231   thrill  ohio  hardwork  men  women  lima  arm...       4      0.9140  \n",
       "37232   great  news  ford  invest  nearli  1  billion...       6      0.8619  \n",
       "37233                               realli  beauti  see        3      0.6689  \n",
       "37234   isi  caliph  two  year  ago  red  vs  isi  ca...       3     -0.4767  \n",
       "37236   leav  great  state  ohio  whitehous  realli  ...       3      0.8890  \n",
       "37238   reason  special  counsel  investig  jame  com...       5     -0.6989  \n",
       "37239   john  solomon  russia  collus  fade  ukrainia...       1      0.4019  \n",
       "37240   52  year  time  unit  state  fulli  recogn  i...       3      0.6900  \n",
       "37241   today  take  histor  action  defend  american...       1      0.8531  \n",
       "37242   today  celebr  live  achiev  american  syndro...       3      0.8268  \n",
       "37248             31  gdp  year  best  number  14  year        3      0.8052  \n",
       "37250   benjamin  hall  fantast  report  isi  right  ...       3      0.6808  \n",
       "37253   isi  use  internet  better  almost  anyon  su...       6     -0.8555  \n",
       "37254   noth  admir  alway  tri  show  glimmer  vicio...       6     -0.9046  \n",
       "37255   pleasur  announc  stephenmoor  respect  econo...       2      0.8264  \n",
       "37256   announc  today  us  treasuri  addit  larg  sc...       0      0.2942  \n",
       "37257   today  florida  flotu  honor  welcom  meet  l...       1      0.7959  \n",
       "37258                            good  morn  great  day        3      0.8070  \n",
       "37259                              make  america  great        3      0.6588  \n",
       "37260   collus  obstruct  complet  total  exoner  kee...       3      0.4069  \n",
       "37261   matter  ideolog  loyalti  good  day  america ...       1      0.5719  \n",
       "37262   special  counsel  find  trump  campaign  anyo...       5      0.4019  \n",
       "37263   break  news  mueller  report  find  trumpruss...       1     -0.2960  \n",
       "37269   today  great  honor  welcom  prime  minist  n...       3      0.8834  \n",
       "\n",
       "[5926 rows x 9 columns]"
      ]
     },
     "execution_count": 4,
     "metadata": {},
     "output_type": "execute_result"
    }
   ],
   "source": [
    "data"
   ]
  },
  {
   "cell_type": "code",
   "execution_count": 13,
   "metadata": {},
   "outputs": [
    {
     "name": "stdout",
     "output_type": "stream",
     "text": [
      "great             215\n",
      "endors             74\n",
      "crime              74\n",
      "total              67\n",
      "state              66\n",
      "presid             65\n",
      "senat              65\n",
      "border             63\n",
      "job                63\n",
      "get                61\n",
      "vote               60\n",
      "peopl              58\n",
      "trump              54\n",
      "governor           52\n",
      "big                51\n",
      "time               50\n",
      "militari           49\n",
      "love               46\n",
      "john               45\n",
      "work               45\n",
      "mani               44\n",
      "strong             44\n",
      "lie                43\n",
      "tax                42\n",
      "fake               42\n",
      "comey              41\n",
      "man                39\n",
      "congressman        39\n",
      "even               39\n",
      "vet                38\n",
      "                 ... \n",
      "behav               1\n",
      "incumb              1\n",
      "zeldin              1\n",
      "lanni               1\n",
      "undocu              1\n",
      "1295                1\n",
      "amer                1\n",
      "funer               1\n",
      "achiev              1\n",
      "wintour             1\n",
      "brass               1\n",
      "airplan             1\n",
      "wherein             1\n",
      "studi               1\n",
      "nflor               1\n",
      "6                   1\n",
      "commerc             1\n",
      "oblig               1\n",
      "jersey              1\n",
      "turkish             1\n",
      "dirt                1\n",
      "text                1\n",
      "local               1\n",
      "spread              1\n",
      "lloydsmuckerpa      1\n",
      "wasnt               1\n",
      "meantim             1\n",
      "program             1\n",
      "becam               1\n",
      "arkansa             1\n",
      "Length: 2497, dtype: int64\n"
     ]
    },
    {
     "name": "stderr",
     "output_type": "stream",
     "text": [
      "/usr/local/lib/python3.6/dist-packages/ipykernel_launcher.py:10: SettingWithCopyWarning: \n",
      "A value is trying to be set on a copy of a slice from a DataFrame.\n",
      "Try using .loc[row_indexer,col_indexer] = value instead\n",
      "\n",
      "See the caveats in the documentation: http://pandas.pydata.org/pandas-docs/stable/indexing.html#indexing-view-versus-copy\n",
      "  # Remove the CWD from sys.path while we load stuff.\n"
     ]
    }
   ],
   "source": [
    "majorCluster = 2\n",
    "d1 = data[data[\"labels\"] == majorCluster ]\n",
    "\n",
    "\n",
    "stemmed_words = pd.Series(' '.join(d1['modded1_stemmed']).split()).value_counts()\n",
    "print(stemmed_words)\n",
    "\n",
    "stemmed_words = stemmed_words[3:]\n",
    "stemmed_words = stemmed_words[stemmed_words > 3]\n",
    "d1['m'] = data['modded1_stemmed'].apply(lambda x: \" \".join(x for x in x.split() if x in stemmed_words))"
   ]
  },
  {
   "cell_type": "code",
   "execution_count": 14,
   "metadata": {
    "scrolled": false
   },
   "outputs": [
    {
     "data": {
      "image/png": "[encoded data removed]",
      "text/plain": [
       "<Figure size 432x288 with 1 Axes>"
      ]
     },
     "metadata": {
      "needs_background": "light"
     },
     "output_type": "display_data"
    },
    {
     "name": "stdout",
     "output_type": "stream",
     "text": [
      "11\n"
     ]
    }
   ],
   "source": [
    "\n",
    "from gensim.corpora.dictionary import Dictionary\n",
    "\n",
    "tokenizer = RegexpTokenizer(r'\\w+')\n",
    "\n",
    "\n",
    "\n",
    "corpus = d1[\"m\"].tolist()\n",
    "#print(len(corpus))\n",
    "corp = []\n",
    "for string in corpus:\n",
    "    tokens = tokenizer.tokenize(string)\n",
    "    corp.append(tokens)\n",
    "\n",
    "common_dictionary = Dictionary(corp)\n",
    "common_corpus = [common_dictionary.doc2bow(text) for text in corp]\n",
    "tfidf = TfidfModel(common_corpus)\n",
    "tfidf_corpus = tfidf[common_corpus]\n",
    "\n",
    "start,stop,step=2,15,1\n",
    "nTopics = plot_graph(corp,start,stop,step,tfidf_corpus,common_dictionary)\n",
    "\n",
    "print(nTopics)\n"
   ]
  },
  {
   "cell_type": "code",
   "execution_count": 16,
   "metadata": {
    "scrolled": false
   },
   "outputs": [
    {
     "data": {
      "image/png": "[encoded data removed]",
      "text/plain": [
       "<Figure size 432x288 with 1 Axes>"
      ]
     },
     "metadata": {
      "needs_background": "light"
     },
     "output_type": "display_data"
    },
    {
     "data": {
      "image/png": "[encoded data removed]",
      "text/plain": [
       "<Figure size 432x288 with 1 Axes>"
      ]
     },
     "metadata": {
      "needs_background": "light"
     },
     "output_type": "display_data"
    },
    {
     "data": {
      "image/png": "[encoded data removed]",
      "text/plain": [
       "<Figure size 432x288 with 1 Axes>"
      ]
     },
     "metadata": {
      "needs_background": "light"
     },
     "output_type": "display_data"
    },
    {
     "data": {
      "image/png": "[encoded data removed]",
      "text/plain": [
       "<Figure size 432x288 with 1 Axes>"
      ]
     },
     "metadata": {
      "needs_background": "light"
     },
     "output_type": "display_data"
    },
    {
     "data": {
      "image/png": "[encoded data removed]",
      "text/plain": [
       "<Figure size 432x288 with 1 Axes>"
      ]
     },
     "metadata": {
      "needs_background": "light"
     },
     "output_type": "display_data"
    },
    {
     "data": {
      "image/png": "[encoded data removed]",
      "text/plain": [
       "<Figure size 432x288 with 1 Axes>"
      ]
     },
     "metadata": {
      "needs_background": "light"
     },
     "output_type": "display_data"
    },
    {
     "data": {
      "image/png": "[encoded data removed]",
      "text/plain": [
       "<Figure size 432x288 with 1 Axes>"
      ]
     },
     "metadata": {
      "needs_background": "light"
     },
     "output_type": "display_data"
    },
    {
     "data": {
      "image/png": "[encoded data removed]",
      "text/plain": [
       "<Figure size 432x288 with 1 Axes>"
      ]
     },
     "metadata": {
      "needs_background": "light"
     },
     "output_type": "display_data"
    },
    {
     "data": {
      "image/png": "[encoded data removed]",
      "text/plain": [
       "<Figure size 432x288 with 1 Axes>"
      ]
     },
     "metadata": {
      "needs_background": "light"
     },
     "output_type": "display_data"
    },
    {
     "data": {
      "image/png": "[encoded data removed]",
      "text/plain": [
       "<Figure size 432x288 with 1 Axes>"
      ]
     },
     "metadata": {
      "needs_background": "light"
     },
     "output_type": "display_data"
    },
    {
     "data": {
      "image/png": "[encoded data removed]",
      "text/plain": [
       "<Figure size 432x288 with 1 Axes>"
      ]
     },
     "metadata": {
      "needs_background": "light"
     },
     "output_type": "display_data"
    },
    {
     "name": "stdout",
     "output_type": "stream",
     "text": [
      "topics_count [61, 55, 53, 51, 49, 49, 45, 42, 41, 39, 29]\n"
     ]
    },
    {
     "name": "stderr",
     "output_type": "stream",
     "text": [
      "/usr/local/lib/python3.6/dist-packages/ipykernel_launcher.py:33: SettingWithCopyWarning: \n",
      "A value is trying to be set on a copy of a slice from a DataFrame.\n",
      "Try using .loc[row_indexer,col_indexer] = value instead\n",
      "\n",
      "See the caveats in the documentation: http://pandas.pydata.org/pandas-docs/stable/indexing.html#indexing-view-versus-copy\n"
     ]
    }
   ],
   "source": [
    "lda = LdaModel(tfidf_corpus, num_topics=11, id2word=common_dictionary)\n",
    "\n",
    "topics = lda.show_topics(num_topics=-1, num_words=10,formatted=False,log=True)\n",
    "#print(g)\n",
    "for topic in topics:\n",
    "    words = []\n",
    "    weights = []\n",
    "    for word in topic[1]:\n",
    "        if abs(word[1]) > 0.001:\n",
    "            words.append(word[0])\n",
    "            #prendi valore assoluto perchè positivo/negativo non ha senso \n",
    "            weights.append(abs(word[1]))\n",
    "    labels = words\n",
    "    sizes = weights\n",
    "    plt.title(\"Topic \" + str(topic[0]))\n",
    "    sns.barplot(x=weights, y=words)\n",
    "    plt.xlabel(\"Topic contribution\")\n",
    "    plt.ylabel(\"Word\")\n",
    "    plt.show()        \n",
    "topicColumn = []\n",
    "topicList = {}\n",
    "for el in tfidf_corpus:\n",
    "    vector = lda.get_document_topics(el)\n",
    "    #get topic\n",
    "    m = max(y for (x,y) in vector)\n",
    "    ind = [x for x, y in enumerate(vector) if y[1] == m][0]\n",
    "    #print(ind,m)\n",
    "    if ind not in topicList:\n",
    "        topicList[ind] = 1\n",
    "    else: \n",
    "        topicList[ind] += 1\n",
    "    topicColumn.append(ind)\n",
    "d1[\"topic\"] = topicColumn\n",
    "#print(topicColumn)\n",
    "print(\"topics_count\",d1[\"topic\"].value_counts().tolist())\n"
   ]
  },
  {
   "cell_type": "code",
   "execution_count": 17,
   "metadata": {},
   "outputs": [
    {
     "data": {
      "text/plain": [
       "Index(['vaderScore', 'topic', '2016', '2nd', 'abc', 'absolut', 'accomplish',\n",
       "       'accur', 'act', 'action',\n",
       "       ...\n",
       "       'wow', 'written', 'wrong', 'wrote', 'xi', 'year', 'yesterday', 'yet',\n",
       "       'york', 'young'],\n",
       "      dtype='object', length=650)"
      ]
     },
     "execution_count": 17,
     "metadata": {},
     "output_type": "execute_result"
    }
   ],
   "source": [
    "from sklearn.feature_extraction.text import TfidfVectorizer, CountVectorizer\n",
    "\n",
    "# create a dataframe from a word matrix\n",
    "def wm2df(wm, feat_names):\n",
    "    \n",
    "    # create an index for each row\n",
    "    doc_names = ['Doc{:d}'.format(idx) for idx, _ in enumerate(wm)]\n",
    "    df = pd.DataFrame(data=wm.toarray(),\n",
    "                      columns=feat_names)\n",
    "    return(df)\n",
    "  \n",
    "corpus = d1[\"m\"].tolist()\n",
    "\n",
    "# instantiate the vectorizer object\n",
    "cvec = TfidfVectorizer()\n",
    "\n",
    "# convert the documents into a document-term matrix\n",
    "wm = cvec.fit_transform(corpus)\n",
    "\n",
    "# retrieve the terms found in the corpora\n",
    "tokens = cvec.get_feature_names()\n",
    "\n",
    "# create a dataframe from the matrix\n",
    "c = wm2df(wm, tokens)\n",
    "\n",
    "d1.reset_index(inplace=True,drop=True)\n",
    "res = pd.concat([d1,c], axis=1)\n",
    "#hour peggiora di brutto e monht alza di tanto sse!!! sembra che il tempo peggiori sse e migliori silhouette\n",
    "res1 = res.drop([\"date_year\",\"week_year\",\"date_month\",\"hour\",\"noTags_punct\",\"modded1_stemmed\",\"labels\",\"favorite_count\",\"retweet_count\",\"m\"],axis=1)\n",
    "dataWithText = res.drop([\"date_year\",\"week_year\",\"hour\",\"noTags_punct\",\"modded1_stemmed\",\"labels\",\"favorite_count\",\"retweet_count\"],axis=1) \n",
    "#dataWithText = res\n",
    "res1.columns"
   ]
  },
  {
   "cell_type": "code",
   "execution_count": 18,
   "metadata": {},
   "outputs": [
    {
     "data": {
      "text/plain": [
       "(array([42., 61., 29., 55., 53., 39., 51., 41., 45., 98.]),\n",
       " array([ 0.,  1.,  2.,  3.,  4.,  5.,  6.,  7.,  8.,  9., 10.]),\n",
       " <a list of 10 Patch objects>)"
      ]
     },
     "execution_count": 18,
     "metadata": {},
     "output_type": "execute_result"
    },
    {
     "data": {
      "image/png": "[encoded data removed]",
      "text/plain": [
       "<Figure size 432x288 with 1 Axes>"
      ]
     },
     "metadata": {
      "needs_background": "light"
     },
     "output_type": "display_data"
    }
   ],
   "source": [
    "plt.hist(res1[\"topic\"])"
   ]
  },
  {
   "cell_type": "code",
   "execution_count": 37,
   "metadata": {},
   "outputs": [
    {
     "name": "stdout",
     "output_type": "stream",
     "text": [
      "2 0.7248319239928603\n",
      "3 0.576753382105586\n",
      "4 0.4994516323826884\n",
      "5 0.45237056818950044\n",
      "6 0.42706063767642144\n",
      "7 0.4003758735657816\n",
      "8 0.32581974800710395\n",
      "9 0.3211945296055436\n",
      "10 0.29579594455868513\n",
      "11 0.3004010647479944\n",
      "12 0.31168091732806213\n",
      "13 0.31483951813721445\n",
      "14 0.30239081861007655\n",
      "15 0.2849077652153275\n",
      "16 0.28936774782276553\n",
      "17 0.2777484552955422\n",
      "18 0.26819433993273867\n",
      "19 0.27835727599236393\n",
      "20 0.28213226181514806\n",
      "21 0.28279480590378075\n"
     ]
    }
   ],
   "source": [
    "sil = []\n",
    "for c in range(2,22):\n",
    "    clustering = AgglomerativeClustering(affinity='cosine', linkage='average', n_clusters=c)\n",
    "    clustering.fit(res1)\n",
    "    labels = clustering.labels_\n",
    "    d = silhouette_score(res1, labels,metric='cosine')\n",
    "    sil.append(d)\n",
    "    print(c,d)\n"
   ]
  },
  {
   "cell_type": "code",
   "execution_count": 35,
   "metadata": {},
   "outputs": [],
   "source": [
    "res1 = res.drop([\"week_year\",\"date_month\",\"hour\",\"noTags_punct\",\"modded1_stemmed\",\"labels\",\"favorite_count\",\"retweet_count\",\"m\"],axis=1)\n",
    "dataWithText = res.drop([\"week_year\",\"hour\",\"noTags_punct\",\"modded1_stemmed\",\"labels\",\"favorite_count\",\"retweet_count\"],axis=1) \n"
   ]
  },
  {
   "cell_type": "code",
   "execution_count": 38,
   "metadata": {},
   "outputs": [
    {
     "name": "stdout",
     "output_type": "stream",
     "text": [
      "Index(['date_year', 'vaderScore', 'topic', '2016', '2nd', 'abc', 'absolut',\n",
      "       'accomplish', 'accur', 'act',\n",
      "       ...\n",
      "       'wow', 'written', 'wrong', 'wrote', 'xi', 'year', 'yesterday', 'yet',\n",
      "       'york', 'young'],\n",
      "      dtype='object', length=651)\n",
      "0.32581974800710395\n"
     ]
    }
   ],
   "source": [
    "print(res1.columns)\n",
    "clustering = AgglomerativeClustering(affinity='cosine', linkage='average', n_clusters=8) #50 sembra nice, 70 meh \n",
    "clustering.fit(res1)\n",
    "labels = clustering.labels_\n",
    "d = silhouette_score(res1, labels,metric='cosine')\n",
    "print(d)"
   ]
  },
  {
   "cell_type": "code",
   "execution_count": 39,
   "metadata": {},
   "outputs": [],
   "source": [
    "res1[\"labels\"] = labels\n",
    "dataWithText[\"labels\"] = labels\n"
   ]
  },
  {
   "cell_type": "code",
   "execution_count": 60,
   "metadata": {
    "scrolled": false
   },
   "outputs": [
    {
     "name": "stdout",
     "output_type": "stream",
     "text": [
      "CLUSTER 4\n",
      "36\n",
      "2018    19\n",
      "2017    10\n",
      "2019     7\n",
      "Name: date_year, dtype: int64\n",
      "[2017, 2018, 2019]\n",
      "anni nel cluster  3\n"
     ]
    },
    {
     "data": {
      "image/png": "[encoded data removed]",
      "text/plain": [
       "<Figure size 432x288 with 1 Axes>"
      ]
     },
     "metadata": {
      "needs_background": "light"
     },
     "output_type": "display_data"
    },
    {
     "data": {
      "image/png": "[encoded data removed]",
      "text/plain": [
       "<Figure size 432x288 with 1 Axes>"
      ]
     },
     "metadata": {
      "needs_background": "light"
     },
     "output_type": "display_data"
    },
    {
     "data": {
      "image/png": "[encoded data removed]",
      "text/plain": [
       "<Figure size 432x288 with 1 Axes>"
      ]
     },
     "metadata": {
      "needs_background": "light"
     },
     "output_type": "display_data"
    },
    {
     "name": "stdout",
     "output_type": "stream",
     "text": [
      "CLUSTER 3\n",
      "103\n",
      "2018    66\n",
      "2017    23\n",
      "2019    14\n",
      "Name: date_year, dtype: int64\n",
      "[2017, 2018, 2019]\n",
      "anni nel cluster  3\n"
     ]
    },
    {
     "data": {
      "image/png": "[encoded data removed]",
      "text/plain": [
       "<Figure size 432x288 with 1 Axes>"
      ]
     },
     "metadata": {
      "needs_background": "light"
     },
     "output_type": "display_data"
    },
    {
     "data": {
      "image/png": "[encoded data removed]",
      "text/plain": [
       "<Figure size 432x288 with 1 Axes>"
      ]
     },
     "metadata": {
      "needs_background": "light"
     },
     "output_type": "display_data"
    },
    {
     "data": {
      "image/png": "[encoded data removed]",
      "text/plain": [
       "<Figure size 432x288 with 1 Axes>"
      ]
     },
     "metadata": {
      "needs_background": "light"
     },
     "output_type": "display_data"
    },
    {
     "name": "stdout",
     "output_type": "stream",
     "text": [
      "CLUSTER 2\n",
      "98\n",
      "2018    60\n",
      "2017    25\n",
      "2019    13\n",
      "Name: date_year, dtype: int64\n",
      "[2017, 2018, 2019]\n",
      "anni nel cluster  3\n"
     ]
    },
    {
     "data": {
      "image/png": "[encoded data removed]",
      "text/plain": [
       "<Figure size 432x288 with 1 Axes>"
      ]
     },
     "metadata": {
      "needs_background": "light"
     },
     "output_type": "display_data"
    },
    {
     "data": {
      "image/png": "[encoded data removed]",
      "text/plain": [
       "<Figure size 432x288 with 1 Axes>"
      ]
     },
     "metadata": {
      "needs_background": "light"
     },
     "output_type": "display_data"
    },
    {
     "data": {
      "image/png": "[encoded data removed]",
      "text/plain": [
       "<Figure size 432x288 with 1 Axes>"
      ]
     },
     "metadata": {
      "needs_background": "light"
     },
     "output_type": "display_data"
    },
    {
     "name": "stdout",
     "output_type": "stream",
     "text": [
      "CLUSTER 0\n",
      "81\n",
      "2018    61\n",
      "2017    13\n",
      "2019     7\n",
      "Name: date_year, dtype: int64\n",
      "[2017, 2018, 2019]\n",
      "anni nel cluster  3\n"
     ]
    },
    {
     "data": {
      "image/png": "[encoded data removed]",
      "text/plain": [
       "<Figure size 432x288 with 1 Axes>"
      ]
     },
     "metadata": {
      "needs_background": "light"
     },
     "output_type": "display_data"
    },
    {
     "data": {
      "image/png": "[encoded data removed]",
      "text/plain": [
       "<Figure size 432x288 with 1 Axes>"
      ]
     },
     "metadata": {
      "needs_background": "light"
     },
     "output_type": "display_data"
    },
    {
     "data": {
      "image/png": "[encoded data removed]",
      "text/plain": [
       "<Figure size 432x288 with 1 Axes>"
      ]
     },
     "metadata": {
      "needs_background": "light"
     },
     "output_type": "display_data"
    },
    {
     "name": "stdout",
     "output_type": "stream",
     "text": [
      "CLUSTER 5\n",
      "89\n",
      "2018    52\n",
      "2017    31\n",
      "2019     6\n",
      "Name: date_year, dtype: int64\n",
      "[2017, 2018, 2019]\n",
      "anni nel cluster  3\n"
     ]
    },
    {
     "data": {
      "image/png": "[encoded data removed]",
      "text/plain": [
       "<Figure size 432x288 with 1 Axes>"
      ]
     },
     "metadata": {
      "needs_background": "light"
     },
     "output_type": "display_data"
    },
    {
     "data": {
      "image/png": "[encoded data removed]",
      "text/plain": [
       "<Figure size 432x288 with 1 Axes>"
      ]
     },
     "metadata": {
      "needs_background": "light"
     },
     "output_type": "display_data"
    },
    {
     "data": {
      "image/png": "[encoded data removed]",
      "text/plain": [
       "<Figure size 432x288 with 1 Axes>"
      ]
     },
     "metadata": {
      "needs_background": "light"
     },
     "output_type": "display_data"
    },
    {
     "name": "stdout",
     "output_type": "stream",
     "text": [
      "CLUSTER 6\n",
      "23\n",
      "2018    10\n",
      "2017     7\n",
      "2019     6\n",
      "Name: date_year, dtype: int64\n",
      "[2017, 2018, 2019]\n",
      "anni nel cluster  3\n"
     ]
    },
    {
     "data": {
      "image/png": "[encoded data removed]",
      "text/plain": [
       "<Figure size 432x288 with 1 Axes>"
      ]
     },
     "metadata": {
      "needs_background": "light"
     },
     "output_type": "display_data"
    },
    {
     "data": {
      "image/png": "[encoded data removed]",
      "text/plain": [
       "<Figure size 432x288 with 1 Axes>"
      ]
     },
     "metadata": {
      "needs_background": "light"
     },
     "output_type": "display_data"
    },
    {
     "data": {
      "image/png": "[encoded data removed]",
      "text/plain": [
       "<Figure size 432x288 with 1 Axes>"
      ]
     },
     "metadata": {
      "needs_background": "light"
     },
     "output_type": "display_data"
    },
    {
     "name": "stdout",
     "output_type": "stream",
     "text": [
      "CLUSTER 1\n",
      "72\n",
      "2018    51\n",
      "2017    18\n",
      "2019     3\n",
      "Name: date_year, dtype: int64\n",
      "[2017, 2018, 2019]\n",
      "anni nel cluster  3\n"
     ]
    },
    {
     "data": {
      "image/png": "[encoded data removed]",
      "text/plain": [
       "<Figure size 432x288 with 1 Axes>"
      ]
     },
     "metadata": {
      "needs_background": "light"
     },
     "output_type": "display_data"
    },
    {
     "data": {
      "image/png": "[encoded data removed]",
      "text/plain": [
       "<Figure size 432x288 with 1 Axes>"
      ]
     },
     "metadata": {
      "needs_background": "light"
     },
     "output_type": "display_data"
    },
    {
     "data": {
      "image/png": "[encoded data removed]",
      "text/plain": [
       "<Figure size 432x288 with 1 Axes>"
      ]
     },
     "metadata": {
      "needs_background": "light"
     },
     "output_type": "display_data"
    },
    {
     "name": "stdout",
     "output_type": "stream",
     "text": [
      "CLUSTER 7\n",
      "12\n",
      "2018    8\n",
      "2017    4\n",
      "Name: date_year, dtype: int64\n",
      "[2017, 2018]\n",
      "anni nel cluster  2\n"
     ]
    },
    {
     "data": {
      "image/png": "[encoded data removed]",
      "text/plain": [
       "<Figure size 432x288 with 1 Axes>"
      ]
     },
     "metadata": {
      "needs_background": "light"
     },
     "output_type": "display_data"
    },
    {
     "data": {
      "image/png": "[encoded data removed]",
      "text/plain": [
       "<Figure size 432x288 with 1 Axes>"
      ]
     },
     "metadata": {
      "needs_background": "light"
     },
     "output_type": "display_data"
    },
    {
     "data": {
      "image/png": "[encoded data removed]",
      "text/plain": [
       "<Figure size 432x288 with 1 Axes>"
      ]
     },
     "metadata": {
      "needs_background": "light"
     },
     "output_type": "display_data"
    }
   ],
   "source": [
    "\n",
    "for cluster in res1[\"labels\"].unique():\n",
    "    g1 = res1[res1[\"labels\"] == cluster]\n",
    "   # temp = dataWithText[dataWithText[\"labels\"] == cluster]\n",
    "    \n",
    "\n",
    "    #meanTfOrdered = sorted(meanTf, key=itemgetter(1),reverse = True)\n",
    "    #print(\"cluster \",cluster,\" lunghezza \", len(g1), \":\\n\", str(meanTfOrdered[0:5]) + \"\\n\")\n",
    "    print(\"CLUSTER \" + str(cluster))\n",
    "    print(len(g1))\n",
    "    print(g1[\"date_year\"].value_counts())\n",
    "    print(g1[\"date_year\"].unique().tolist())\n",
    "    print(\"anni nel cluster \", len(g1[\"date_year\"].unique().tolist()))\n",
    "    #print(temp[\"week_year\"].unique().tolist())\n",
    "   # print(\"numero di settimane in cluster\", len(temp[\"week_year\"].unique().tolist()))\n",
    "\n",
    "    #plt.hist(g1[\"topic\"],bins=[0,1,2,3,4,5,6,7,8,9,10])\n",
    "    #plt.title(\"topicdistrib in cluster \" + str(cluster))\n",
    "    #plt.show()\n",
    "    sns.countplot(g1[\"topic\"])\n",
    "    plt.show()\n",
    "\n",
    "    g1.pivot(columns='topic').vaderScore.plot(kind = 'hist',alpha=0.6,stacked=True)\n",
    "    plt.show()\n",
    "    \n",
    "    plt.hist(g1[\"vaderScore\"],bins=[-1,-0.8,-0.6,-0.4,-0.2,0,0.2,0.4,0.6,0.8,1],label=g1[\"topic\"].unique().tolist())\n",
    "    plt.title(\"Vader score in cluster \" + str(cluster) )\n",
    "    plt.show()\n",
    "    \n",
    "    #try to make a stacked histogram to see how he differentiates the topics and what he's talking about\n",
    "\n"
   ]
  },
  {
   "cell_type": "code",
   "execution_count": null,
   "metadata": {},
   "outputs": [],
   "source": []
  }
 ],
 "metadata": {
  "kernelspec": {
   "display_name": "Python 3",
   "language": "python",
   "name": "python3"
  },
  "language_info": {
   "codemirror_mode": {
    "name": "ipython",
    "version": 3
   },
   "file_extension": ".py",
   "mimetype": "text/x-python",
   "name": "python",
   "nbconvert_exporter": "python",
   "pygments_lexer": "ipython3",
   "version": "3.6.7"
  }
 },
 "nbformat": 4,
 "nbformat_minor": 2
}
